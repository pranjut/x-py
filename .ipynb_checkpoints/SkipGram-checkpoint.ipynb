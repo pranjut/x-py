{
 "cells": [
  {
   "cell_type": "code",
   "execution_count": 1,
   "metadata": {},
   "outputs": [],
   "source": [
    "import pandas as pd\n",
    "import numpy as np\n",
    "import re\n",
    "import nltk\n",
    "import matplotlib.pyplot as plt\n",
    "from nltk.corpus import gutenberg\n",
    "from string import punctuation"
   ]
  },
  {
   "cell_type": "code",
   "execution_count": null,
   "metadata": {},
   "outputs": [],
   "source": []
  },
  {
   "cell_type": "code",
   "execution_count": 2,
   "metadata": {},
   "outputs": [],
   "source": [
    "wpt = nltk.WordPunctTokenizer()\n",
    "stop_words = nltk.corpus.stopwords.words('english')\n",
    "def normalize_document(doc):\n",
    "    # lower case and remove special characters\\whitespaces\n",
    "    doc = re.sub(r'[^a-zA-Z\\s]', '', doc, re.I|re.A)\n",
    "    doc = doc.lower()\n",
    "    doc = doc.strip()\n",
    "    # tokenize document\n",
    "    tokens = wpt.tokenize(doc)\n",
    "    # filter stopwords out of document\n",
    "    filtered_tokens = [token for token in tokens if token not in stop_words]\n",
    "    # re-create document from filtered tokens\n",
    "    doc = ' '.join(filtered_tokens)\n",
    "    return doc\n",
    "normalize_corpus = np.vectorize(normalize_document) #https://docs.scipy.org/doc/numpy-1.10.0/reference/generated/numpy.vectorize.html"
   ]
  },
  {
   "cell_type": "code",
   "execution_count": 3,
   "metadata": {},
   "outputs": [],
   "source": [
    "bible = gutenberg.sents('bible-kjv.txt') \n",
    "remove_terms = punctuation + '0123456789'\n",
    "norm_bible = [[word.lower() for word in sent if word not in remove_terms] for sent in bible]\n",
    "norm_bible = [' '.join(tok_sent) for tok_sent in norm_bible]\n",
    "norm_bible = filter(None, normalize_corpus(norm_bible))\n",
    "norm_bible = [tok_sent for tok_sent in norm_bible if len(tok_sent.split()) > 2]"
   ]
  },
  {
   "cell_type": "markdown",
   "metadata": {},
   "source": [
    "# SKIP-GRAM"
   ]
  },
  {
   "cell_type": "markdown",
   "metadata": {},
   "source": [
    "Examples from https://www.kdnuggets.com/2018/04/implementing-deep-learning-methods-feature-engineering-text-data-skip-gram.html"
   ]
  },
  {
   "cell_type": "code",
   "execution_count": 4,
   "metadata": {},
   "outputs": [
    {
     "name": "stderr",
     "output_type": "stream",
     "text": [
      "/home/pranjut/anaconda3/lib/python3.6/site-packages/h5py/__init__.py:36: FutureWarning: Conversion of the second argument of issubdtype from `float` to `np.floating` is deprecated. In future, it will be treated as `np.float64 == np.dtype(float).type`.\n",
      "  from ._conv import register_converters as _register_converters\n",
      "Using TensorFlow backend.\n"
     ]
    }
   ],
   "source": [
    "from keras.preprocessing import text"
   ]
  },
  {
   "cell_type": "code",
   "execution_count": 5,
   "metadata": {},
   "outputs": [],
   "source": [
    "tokenizer = text.Tokenizer()\n",
    "tokenizer.fit_on_texts(norm_bible)"
   ]
  },
  {
   "cell_type": "code",
   "execution_count": 6,
   "metadata": {},
   "outputs": [],
   "source": [
    "word2id = tokenizer.word_index\n",
    "id2word = {v:k for k, v in word2id.items()}"
   ]
  },
  {
   "cell_type": "code",
   "execution_count": 7,
   "metadata": {},
   "outputs": [],
   "source": [
    "vocab_size = len(word2id) + 1 \n",
    "embed_size = 100"
   ]
  },
  {
   "cell_type": "code",
   "execution_count": 8,
   "metadata": {},
   "outputs": [],
   "source": [
    "wids = [[word2id[w] for w in text.text_to_word_sequence(doc)] for doc in norm_bible]\n",
    "#print('Vocabulary Size:', vocab_size)\n",
    "#print('Vocabulary Sample:', list(word2id.items())[:10])"
   ]
  },
  {
   "cell_type": "code",
   "execution_count": 9,
   "metadata": {},
   "outputs": [],
   "source": [
    "from keras.preprocessing.sequence import skipgrams\n",
    "skip_grams = [skipgrams(wid, vocabulary_size=vocab_size, window_size=10) for wid in wids]\n",
    "#skip_grams"
   ]
  },
  {
   "cell_type": "code",
   "execution_count": 10,
   "metadata": {},
   "outputs": [
    {
     "name": "stdout",
     "output_type": "stream",
     "text": [
      "(bible (5766), shedder (11112)) -> 0\n",
      "(king (13), calm (4574)) -> 0\n",
      "(bible (5766), james (1154)) -> 1\n",
      "(bible (5766), king (13)) -> 1\n",
      "(king (13), james (1154)) -> 1\n",
      "(bible (5766), circumcision (1524)) -> 0\n",
      "(james (1154), sheaf (3452)) -> 0\n",
      "(james (1154), bible (5766)) -> 1\n",
      "(king (13), ramathite (9989)) -> 0\n",
      "(james (1154), king (13)) -> 1\n"
     ]
    }
   ],
   "source": [
    "pairs, labels = skip_grams[0][0], skip_grams[0][1]\n",
    "for i in range(10):\n",
    "    print(\"({:s} ({:d}), {:s} ({:d})) -> {:d}\".format(\n",
    "          id2word[pairs[i][0]], pairs[i][0], \n",
    "          id2word[pairs[i][1]], pairs[i][1], \n",
    "          labels[i]))"
   ]
  },
  {
   "cell_type": "markdown",
   "metadata": {},
   "source": [
    "The Architecture i.e. the network"
   ]
  },
  {
   "cell_type": "code",
   "execution_count": 11,
   "metadata": {},
   "outputs": [],
   "source": [
    "from keras.layers import Dot, Input, dot, Flatten\n",
    "from keras.layers.core import Dense, Reshape\n",
    "from keras.layers.embeddings import Embedding\n",
    "from keras.models import Sequential, Model"
   ]
  },
  {
   "cell_type": "markdown",
   "metadata": {},
   "source": [
    "# Skip-Gram Network Model"
   ]
  },
  {
   "cell_type": "code",
   "execution_count": 15,
   "metadata": {},
   "outputs": [
    {
     "name": "stdout",
     "output_type": "stream",
     "text": [
      "__________________________________________________________________________________________________\n",
      "Layer (type)                    Output Shape         Param #     Connected to                     \n",
      "==================================================================================================\n",
      "a (InputLayer)                  (None, 1)            0                                            \n",
      "__________________________________________________________________________________________________\n",
      "b (InputLayer)                  (None, 1)            0                                            \n",
      "__________________________________________________________________________________________________\n",
      "embedding_3 (Embedding)         (None, 1, 100)       1242500     a[0][0]                          \n",
      "__________________________________________________________________________________________________\n",
      "embedding_4 (Embedding)         (None, 1, 100)       1242500     b[0][0]                          \n",
      "__________________________________________________________________________________________________\n",
      "flatten_3 (Flatten)             (None, 100)          0           embedding_3[0][0]                \n",
      "__________________________________________________________________________________________________\n",
      "flatten_4 (Flatten)             (None, 100)          0           embedding_4[0][0]                \n",
      "__________________________________________________________________________________________________\n",
      "dot_2 (Dot)                     (None, 1)            0           flatten_3[0][0]                  \n",
      "                                                                 flatten_4[0][0]                  \n",
      "__________________________________________________________________________________________________\n",
      "dense_2 (Dense)                 (None, 1)            2           dot_2[0][0]                      \n",
      "==================================================================================================\n",
      "Total params: 2,485,002\n",
      "Trainable params: 2,485,002\n",
      "Non-trainable params: 0\n",
      "__________________________________________________________________________________________________\n",
      "None\n"
     ]
    }
   ],
   "source": [
    "word_input = Input(shape=(1,),dtype='int32',name='a')\n",
    "context_input = Input(shape=(1,),dtype='int32',name='b')\n",
    "word_embedding = Embedding(vocab_size, embed_size,\n",
    "                         embeddings_initializer=\"glorot_uniform\",\n",
    "                         input_length=1)\n",
    "context_embedding = Embedding(vocab_size, embed_size,\n",
    "                  embeddings_initializer=\"glorot_uniform\",\n",
    "                  input_length=1)\n",
    "embed_word=word_embedding(word_input)\n",
    "embed_context=context_embedding(context_input)\n",
    "\n",
    "embed_word=Flatten()(embed_word)\n",
    "embed_context=Flatten()(embed_context)\n",
    "\n",
    "dot_embed=dot([embed_word, embed_context], axes=1, normalize=False)\n",
    "merge_output=Dense(1, kernel_initializer=\"glorot_uniform\", activation=\"sigmoid\")(dot_embed)\n",
    "\n",
    "model = Model(inputs=[word_input, context_input], outputs=merge_output)\n",
    "model.compile(loss=\"mean_squared_error\", optimizer=\"rmsprop\")\n",
    "print(model.summary())"
   ]
  },
  {
   "cell_type": "code",
   "execution_count": 16,
   "metadata": {},
   "outputs": [
    {
     "data": {
      "image/svg+xml": [
       "<svg height=\"387pt\" viewBox=\"0.00 0.00 490.00 387.00\" width=\"490pt\" xmlns=\"http://www.w3.org/2000/svg\" xmlns:xlink=\"http://www.w3.org/1999/xlink\">\n",
       "<g class=\"graph\" id=\"graph0\" transform=\"scale(1 1) rotate(0) translate(4 383)\">\n",
       "<title>G</title>\n",
       "<polygon fill=\"#ffffff\" points=\"-4,4 -4,-383 486,-383 486,4 -4,4\" stroke=\"transparent\"/>\n",
       "<!-- 139978091169496 -->\n",
       "<g class=\"node\" id=\"node1\">\n",
       "<title>139978091169496</title>\n",
       "<polygon fill=\"none\" points=\"15.5,-332.5 15.5,-378.5 216.5,-378.5 216.5,-332.5 15.5,-332.5\" stroke=\"#000000\"/>\n",
       "<text fill=\"#000000\" font-family=\"Times,serif\" font-size=\"14.00\" text-anchor=\"middle\" x=\"54\" y=\"-351.8\">InputLayer</text>\n",
       "<polyline fill=\"none\" points=\"92.5,-332.5 92.5,-378.5 \" stroke=\"#000000\"/>\n",
       "<text fill=\"#000000\" font-family=\"Times,serif\" font-size=\"14.00\" text-anchor=\"middle\" x=\"120\" y=\"-363.3\">input:</text>\n",
       "<polyline fill=\"none\" points=\"92.5,-355.5 147.5,-355.5 \" stroke=\"#000000\"/>\n",
       "<text fill=\"#000000\" font-family=\"Times,serif\" font-size=\"14.00\" text-anchor=\"middle\" x=\"120\" y=\"-340.3\">output:</text>\n",
       "<polyline fill=\"none\" points=\"147.5,-332.5 147.5,-378.5 \" stroke=\"#000000\"/>\n",
       "<text fill=\"#000000\" font-family=\"Times,serif\" font-size=\"14.00\" text-anchor=\"middle\" x=\"182\" y=\"-363.3\">(None, 1)</text>\n",
       "<polyline fill=\"none\" points=\"147.5,-355.5 216.5,-355.5 \" stroke=\"#000000\"/>\n",
       "<text fill=\"#000000\" font-family=\"Times,serif\" font-size=\"14.00\" text-anchor=\"middle\" x=\"182\" y=\"-340.3\">(None, 1)</text>\n",
       "</g>\n",
       "<!-- 139978091034384 -->\n",
       "<g class=\"node\" id=\"node3\">\n",
       "<title>139978091034384</title>\n",
       "<polygon fill=\"none\" points=\"0,-249.5 0,-295.5 232,-295.5 232,-249.5 0,-249.5\" stroke=\"#000000\"/>\n",
       "<text fill=\"#000000\" font-family=\"Times,serif\" font-size=\"14.00\" text-anchor=\"middle\" x=\"40\" y=\"-268.8\">Embedding</text>\n",
       "<polyline fill=\"none\" points=\"80,-249.5 80,-295.5 \" stroke=\"#000000\"/>\n",
       "<text fill=\"#000000\" font-family=\"Times,serif\" font-size=\"14.00\" text-anchor=\"middle\" x=\"107.5\" y=\"-280.3\">input:</text>\n",
       "<polyline fill=\"none\" points=\"80,-272.5 135,-272.5 \" stroke=\"#000000\"/>\n",
       "<text fill=\"#000000\" font-family=\"Times,serif\" font-size=\"14.00\" text-anchor=\"middle\" x=\"107.5\" y=\"-257.3\">output:</text>\n",
       "<polyline fill=\"none\" points=\"135,-249.5 135,-295.5 \" stroke=\"#000000\"/>\n",
       "<text fill=\"#000000\" font-family=\"Times,serif\" font-size=\"14.00\" text-anchor=\"middle\" x=\"183.5\" y=\"-280.3\">(None, 1)</text>\n",
       "<polyline fill=\"none\" points=\"135,-272.5 232,-272.5 \" stroke=\"#000000\"/>\n",
       "<text fill=\"#000000\" font-family=\"Times,serif\" font-size=\"14.00\" text-anchor=\"middle\" x=\"183.5\" y=\"-257.3\">(None, 1, 100)</text>\n",
       "</g>\n",
       "<!-- 139978091169496&#45;&gt;139978091034384 -->\n",
       "<g class=\"edge\" id=\"edge1\">\n",
       "<title>139978091169496-&gt;139978091034384</title>\n",
       "<path d=\"M116,-332.3799C116,-324.1745 116,-314.7679 116,-305.8786\" fill=\"none\" stroke=\"#000000\"/>\n",
       "<polygon fill=\"#000000\" points=\"119.5001,-305.784 116,-295.784 112.5001,-305.784 119.5001,-305.784\" stroke=\"#000000\"/>\n",
       "</g>\n",
       "<!-- 139978091169888 -->\n",
       "<g class=\"node\" id=\"node2\">\n",
       "<title>139978091169888</title>\n",
       "<polygon fill=\"none\" points=\"265.5,-332.5 265.5,-378.5 466.5,-378.5 466.5,-332.5 265.5,-332.5\" stroke=\"#000000\"/>\n",
       "<text fill=\"#000000\" font-family=\"Times,serif\" font-size=\"14.00\" text-anchor=\"middle\" x=\"304\" y=\"-351.8\">InputLayer</text>\n",
       "<polyline fill=\"none\" points=\"342.5,-332.5 342.5,-378.5 \" stroke=\"#000000\"/>\n",
       "<text fill=\"#000000\" font-family=\"Times,serif\" font-size=\"14.00\" text-anchor=\"middle\" x=\"370\" y=\"-363.3\">input:</text>\n",
       "<polyline fill=\"none\" points=\"342.5,-355.5 397.5,-355.5 \" stroke=\"#000000\"/>\n",
       "<text fill=\"#000000\" font-family=\"Times,serif\" font-size=\"14.00\" text-anchor=\"middle\" x=\"370\" y=\"-340.3\">output:</text>\n",
       "<polyline fill=\"none\" points=\"397.5,-332.5 397.5,-378.5 \" stroke=\"#000000\"/>\n",
       "<text fill=\"#000000\" font-family=\"Times,serif\" font-size=\"14.00\" text-anchor=\"middle\" x=\"432\" y=\"-363.3\">(None, 1)</text>\n",
       "<polyline fill=\"none\" points=\"397.5,-355.5 466.5,-355.5 \" stroke=\"#000000\"/>\n",
       "<text fill=\"#000000\" font-family=\"Times,serif\" font-size=\"14.00\" text-anchor=\"middle\" x=\"432\" y=\"-340.3\">(None, 1)</text>\n",
       "</g>\n",
       "<!-- 139978091169608 -->\n",
       "<g class=\"node\" id=\"node4\">\n",
       "<title>139978091169608</title>\n",
       "<polygon fill=\"none\" points=\"250,-249.5 250,-295.5 482,-295.5 482,-249.5 250,-249.5\" stroke=\"#000000\"/>\n",
       "<text fill=\"#000000\" font-family=\"Times,serif\" font-size=\"14.00\" text-anchor=\"middle\" x=\"290\" y=\"-268.8\">Embedding</text>\n",
       "<polyline fill=\"none\" points=\"330,-249.5 330,-295.5 \" stroke=\"#000000\"/>\n",
       "<text fill=\"#000000\" font-family=\"Times,serif\" font-size=\"14.00\" text-anchor=\"middle\" x=\"357.5\" y=\"-280.3\">input:</text>\n",
       "<polyline fill=\"none\" points=\"330,-272.5 385,-272.5 \" stroke=\"#000000\"/>\n",
       "<text fill=\"#000000\" font-family=\"Times,serif\" font-size=\"14.00\" text-anchor=\"middle\" x=\"357.5\" y=\"-257.3\">output:</text>\n",
       "<polyline fill=\"none\" points=\"385,-249.5 385,-295.5 \" stroke=\"#000000\"/>\n",
       "<text fill=\"#000000\" font-family=\"Times,serif\" font-size=\"14.00\" text-anchor=\"middle\" x=\"433.5\" y=\"-280.3\">(None, 1)</text>\n",
       "<polyline fill=\"none\" points=\"385,-272.5 482,-272.5 \" stroke=\"#000000\"/>\n",
       "<text fill=\"#000000\" font-family=\"Times,serif\" font-size=\"14.00\" text-anchor=\"middle\" x=\"433.5\" y=\"-257.3\">(None, 1, 100)</text>\n",
       "</g>\n",
       "<!-- 139978091169888&#45;&gt;139978091169608 -->\n",
       "<g class=\"edge\" id=\"edge2\">\n",
       "<title>139978091169888-&gt;139978091169608</title>\n",
       "<path d=\"M366,-332.3799C366,-324.1745 366,-314.7679 366,-305.8786\" fill=\"none\" stroke=\"#000000\"/>\n",
       "<polygon fill=\"#000000\" points=\"369.5001,-305.784 366,-295.784 362.5001,-305.784 369.5001,-305.784\" stroke=\"#000000\"/>\n",
       "</g>\n",
       "<!-- 139978091170224 -->\n",
       "<g class=\"node\" id=\"node5\">\n",
       "<title>139978091170224</title>\n",
       "<polygon fill=\"none\" points=\"26,-166.5 26,-212.5 232,-212.5 232,-166.5 26,-166.5\" stroke=\"#000000\"/>\n",
       "<text fill=\"#000000\" font-family=\"Times,serif\" font-size=\"14.00\" text-anchor=\"middle\" x=\"53\" y=\"-185.8\">Flatten</text>\n",
       "<polyline fill=\"none\" points=\"80,-166.5 80,-212.5 \" stroke=\"#000000\"/>\n",
       "<text fill=\"#000000\" font-family=\"Times,serif\" font-size=\"14.00\" text-anchor=\"middle\" x=\"107.5\" y=\"-197.3\">input:</text>\n",
       "<polyline fill=\"none\" points=\"80,-189.5 135,-189.5 \" stroke=\"#000000\"/>\n",
       "<text fill=\"#000000\" font-family=\"Times,serif\" font-size=\"14.00\" text-anchor=\"middle\" x=\"107.5\" y=\"-174.3\">output:</text>\n",
       "<polyline fill=\"none\" points=\"135,-166.5 135,-212.5 \" stroke=\"#000000\"/>\n",
       "<text fill=\"#000000\" font-family=\"Times,serif\" font-size=\"14.00\" text-anchor=\"middle\" x=\"183.5\" y=\"-197.3\">(None, 1, 100)</text>\n",
       "<polyline fill=\"none\" points=\"135,-189.5 232,-189.5 \" stroke=\"#000000\"/>\n",
       "<text fill=\"#000000\" font-family=\"Times,serif\" font-size=\"14.00\" text-anchor=\"middle\" x=\"183.5\" y=\"-174.3\">(None, 100)</text>\n",
       "</g>\n",
       "<!-- 139978091034384&#45;&gt;139978091170224 -->\n",
       "<g class=\"edge\" id=\"edge3\">\n",
       "<title>139978091034384-&gt;139978091170224</title>\n",
       "<path d=\"M119.6212,-249.3799C120.9064,-241.1745 122.3797,-231.7679 123.772,-222.8786\" fill=\"none\" stroke=\"#000000\"/>\n",
       "<polygon fill=\"#000000\" points=\"127.2635,-223.2052 125.3531,-212.784 120.3478,-222.1219 127.2635,-223.2052\" stroke=\"#000000\"/>\n",
       "</g>\n",
       "<!-- 139978091170392 -->\n",
       "<g class=\"node\" id=\"node6\">\n",
       "<title>139978091170392</title>\n",
       "<polygon fill=\"none\" points=\"256,-166.5 256,-212.5 462,-212.5 462,-166.5 256,-166.5\" stroke=\"#000000\"/>\n",
       "<text fill=\"#000000\" font-family=\"Times,serif\" font-size=\"14.00\" text-anchor=\"middle\" x=\"283\" y=\"-185.8\">Flatten</text>\n",
       "<polyline fill=\"none\" points=\"310,-166.5 310,-212.5 \" stroke=\"#000000\"/>\n",
       "<text fill=\"#000000\" font-family=\"Times,serif\" font-size=\"14.00\" text-anchor=\"middle\" x=\"337.5\" y=\"-197.3\">input:</text>\n",
       "<polyline fill=\"none\" points=\"310,-189.5 365,-189.5 \" stroke=\"#000000\"/>\n",
       "<text fill=\"#000000\" font-family=\"Times,serif\" font-size=\"14.00\" text-anchor=\"middle\" x=\"337.5\" y=\"-174.3\">output:</text>\n",
       "<polyline fill=\"none\" points=\"365,-166.5 365,-212.5 \" stroke=\"#000000\"/>\n",
       "<text fill=\"#000000\" font-family=\"Times,serif\" font-size=\"14.00\" text-anchor=\"middle\" x=\"413.5\" y=\"-197.3\">(None, 1, 100)</text>\n",
       "<polyline fill=\"none\" points=\"365,-189.5 462,-189.5 \" stroke=\"#000000\"/>\n",
       "<text fill=\"#000000\" font-family=\"Times,serif\" font-size=\"14.00\" text-anchor=\"middle\" x=\"413.5\" y=\"-174.3\">(None, 100)</text>\n",
       "</g>\n",
       "<!-- 139978091169608&#45;&gt;139978091170392 -->\n",
       "<g class=\"edge\" id=\"edge4\">\n",
       "<title>139978091169608-&gt;139978091170392</title>\n",
       "<path d=\"M364.0501,-249.3799C363.3581,-241.1745 362.5648,-231.7679 361.8151,-222.8786\" fill=\"none\" stroke=\"#000000\"/>\n",
       "<polygon fill=\"#000000\" points=\"365.2918,-222.4545 360.9637,-212.784 358.3166,-223.0428 365.2918,-222.4545\" stroke=\"#000000\"/>\n",
       "</g>\n",
       "<!-- 139978091170784 -->\n",
       "<g class=\"node\" id=\"node7\">\n",
       "<title>139978091170784</title>\n",
       "<polygon fill=\"none\" points=\"112.5,-83.5 112.5,-129.5 369.5,-129.5 369.5,-83.5 112.5,-83.5\" stroke=\"#000000\"/>\n",
       "<text fill=\"#000000\" font-family=\"Times,serif\" font-size=\"14.00\" text-anchor=\"middle\" x=\"131\" y=\"-102.8\">Dot</text>\n",
       "<polyline fill=\"none\" points=\"149.5,-83.5 149.5,-129.5 \" stroke=\"#000000\"/>\n",
       "<text fill=\"#000000\" font-family=\"Times,serif\" font-size=\"14.00\" text-anchor=\"middle\" x=\"177\" y=\"-114.3\">input:</text>\n",
       "<polyline fill=\"none\" points=\"149.5,-106.5 204.5,-106.5 \" stroke=\"#000000\"/>\n",
       "<text fill=\"#000000\" font-family=\"Times,serif\" font-size=\"14.00\" text-anchor=\"middle\" x=\"177\" y=\"-91.3\">output:</text>\n",
       "<polyline fill=\"none\" points=\"204.5,-83.5 204.5,-129.5 \" stroke=\"#000000\"/>\n",
       "<text fill=\"#000000\" font-family=\"Times,serif\" font-size=\"14.00\" text-anchor=\"middle\" x=\"287\" y=\"-114.3\">[(None, 100), (None, 100)]</text>\n",
       "<polyline fill=\"none\" points=\"204.5,-106.5 369.5,-106.5 \" stroke=\"#000000\"/>\n",
       "<text fill=\"#000000\" font-family=\"Times,serif\" font-size=\"14.00\" text-anchor=\"middle\" x=\"287\" y=\"-91.3\">(None, 1)</text>\n",
       "</g>\n",
       "<!-- 139978091170224&#45;&gt;139978091170784 -->\n",
       "<g class=\"edge\" id=\"edge5\">\n",
       "<title>139978091170224-&gt;139978091170784</title>\n",
       "<path d=\"M160.1982,-166.3799C172.9554,-156.9259 187.8645,-145.8772 201.3784,-135.8625\" fill=\"none\" stroke=\"#000000\"/>\n",
       "<polygon fill=\"#000000\" points=\"203.6302,-138.55 209.5806,-129.784 199.4624,-132.926 203.6302,-138.55\" stroke=\"#000000\"/>\n",
       "</g>\n",
       "<!-- 139978091170392&#45;&gt;139978091170784 -->\n",
       "<g class=\"edge\" id=\"edge6\">\n",
       "<title>139978091170392-&gt;139978091170784</title>\n",
       "<path d=\"M326.1304,-166.3799C312.563,-156.8367 296.6855,-145.6686 282.3417,-135.5793\" fill=\"none\" stroke=\"#000000\"/>\n",
       "<polygon fill=\"#000000\" points=\"284.2955,-132.6745 274.1026,-129.784 280.2682,-138.4 284.2955,-132.6745\" stroke=\"#000000\"/>\n",
       "</g>\n",
       "<!-- 139978091168320 -->\n",
       "<g class=\"node\" id=\"node8\">\n",
       "<title>139978091168320</title>\n",
       "<polygon fill=\"none\" points=\"154,-.5 154,-46.5 328,-46.5 328,-.5 154,-.5\" stroke=\"#000000\"/>\n",
       "<text fill=\"#000000\" font-family=\"Times,serif\" font-size=\"14.00\" text-anchor=\"middle\" x=\"179\" y=\"-19.8\">Dense</text>\n",
       "<polyline fill=\"none\" points=\"204,-.5 204,-46.5 \" stroke=\"#000000\"/>\n",
       "<text fill=\"#000000\" font-family=\"Times,serif\" font-size=\"14.00\" text-anchor=\"middle\" x=\"231.5\" y=\"-31.3\">input:</text>\n",
       "<polyline fill=\"none\" points=\"204,-23.5 259,-23.5 \" stroke=\"#000000\"/>\n",
       "<text fill=\"#000000\" font-family=\"Times,serif\" font-size=\"14.00\" text-anchor=\"middle\" x=\"231.5\" y=\"-8.3\">output:</text>\n",
       "<polyline fill=\"none\" points=\"259,-.5 259,-46.5 \" stroke=\"#000000\"/>\n",
       "<text fill=\"#000000\" font-family=\"Times,serif\" font-size=\"14.00\" text-anchor=\"middle\" x=\"293.5\" y=\"-31.3\">(None, 1)</text>\n",
       "<polyline fill=\"none\" points=\"259,-23.5 328,-23.5 \" stroke=\"#000000\"/>\n",
       "<text fill=\"#000000\" font-family=\"Times,serif\" font-size=\"14.00\" text-anchor=\"middle\" x=\"293.5\" y=\"-8.3\">(None, 1)</text>\n",
       "</g>\n",
       "<!-- 139978091170784&#45;&gt;139978091168320 -->\n",
       "<g class=\"edge\" id=\"edge7\">\n",
       "<title>139978091170784-&gt;139978091168320</title>\n",
       "<path d=\"M241,-83.3799C241,-75.1745 241,-65.7679 241,-56.8786\" fill=\"none\" stroke=\"#000000\"/>\n",
       "<polygon fill=\"#000000\" points=\"244.5001,-56.784 241,-46.784 237.5001,-56.784 244.5001,-56.784\" stroke=\"#000000\"/>\n",
       "</g>\n",
       "</g>\n",
       "</svg>"
      ],
      "text/plain": [
       "<IPython.core.display.SVG object>"
      ]
     },
     "execution_count": 16,
     "metadata": {},
     "output_type": "execute_result"
    }
   ],
   "source": [
    "from IPython.display import SVG\n",
    "from keras.utils.vis_utils import model_to_dot\n",
    "\n",
    "SVG(model_to_dot(model, show_shapes=True, show_layer_names=False, \n",
    "                 rankdir='TB').create(prog='dot', format='svg'))"
   ]
  },
  {
   "cell_type": "markdown",
   "metadata": {},
   "source": [
    "Training the Model by giving input"
   ]
  },
  {
   "cell_type": "markdown",
   "metadata": {},
   "source": [
    "https://stackoverflow.com/questions/52542275/merging-layers-on-keras-dot-product"
   ]
  },
  {
   "cell_type": "code",
   "execution_count": 17,
   "metadata": {},
   "outputs": [
    {
     "name": "stdout",
     "output_type": "stream",
     "text": [
      "Processed 0 (skip_first, skip_second, relevance) pairs\n",
      "Processed 10000 (skip_first, skip_second, relevance) pairs\n",
      "Processed 20000 (skip_first, skip_second, relevance) pairs\n",
      "Epoch: 1 Loss: 4469.8620698782615\n",
      "Processed 0 (skip_first, skip_second, relevance) pairs\n",
      "Processed 10000 (skip_first, skip_second, relevance) pairs\n",
      "Processed 20000 (skip_first, skip_second, relevance) pairs\n",
      "Epoch: 2 Loss: 3744.543533294578\n",
      "Processed 0 (skip_first, skip_second, relevance) pairs\n",
      "Processed 10000 (skip_first, skip_second, relevance) pairs\n",
      "Processed 20000 (skip_first, skip_second, relevance) pairs\n",
      "Epoch: 3 Loss: 3728.8094003103615\n",
      "Processed 0 (skip_first, skip_second, relevance) pairs\n",
      "Processed 10000 (skip_first, skip_second, relevance) pairs\n",
      "Processed 20000 (skip_first, skip_second, relevance) pairs\n",
      "Epoch: 4 Loss: 3739.894889164192\n",
      "Processed 0 (skip_first, skip_second, relevance) pairs\n",
      "Processed 10000 (skip_first, skip_second, relevance) pairs\n",
      "Processed 20000 (skip_first, skip_second, relevance) pairs\n",
      "Epoch: 5 Loss: 3671.25447019111\n"
     ]
    }
   ],
   "source": [
    "\n",
    "for epoch in range(1, 6):\n",
    "    loss = 0\n",
    "    for i, elem in enumerate(skip_grams):\n",
    "        pair_first_elem = np.array(list(zip(*elem[0]))[0], dtype='int32')\n",
    "        pair_second_elem = np.array(list(zip(*elem[0]))[1], dtype='int32')\n",
    "        labels = np.array(elem[1], dtype='int32')\n",
    "        X = [pair_first_elem, pair_second_elem]\n",
    "        Y = labels\n",
    "        if i % 10000 == 0:\n",
    "            print('Processed {} (skip_first, skip_second, relevance) pairs'.format(i))\n",
    "        loss += model.train_on_batch(X,Y)  \n",
    "\n",
    "    print('Epoch:', epoch, 'Loss:', loss)\n"
   ]
  },
  {
   "cell_type": "markdown",
   "metadata": {},
   "source": [
    "Get Word Embeddings"
   ]
  },
  {
   "cell_type": "code",
   "execution_count": 58,
   "metadata": {},
   "outputs": [
    {
     "name": "stdout",
     "output_type": "stream",
     "text": [
      "(12424, 100)\n"
     ]
    },
    {
     "data": {
      "text/html": [
       "<div>\n",
       "<style scoped>\n",
       "    .dataframe tbody tr th:only-of-type {\n",
       "        vertical-align: middle;\n",
       "    }\n",
       "\n",
       "    .dataframe tbody tr th {\n",
       "        vertical-align: top;\n",
       "    }\n",
       "\n",
       "    .dataframe thead th {\n",
       "        text-align: right;\n",
       "    }\n",
       "</style>\n",
       "<table border=\"1\" class=\"dataframe\">\n",
       "  <thead>\n",
       "    <tr style=\"text-align: right;\">\n",
       "      <th></th>\n",
       "      <th>0</th>\n",
       "      <th>1</th>\n",
       "      <th>2</th>\n",
       "      <th>3</th>\n",
       "      <th>4</th>\n",
       "      <th>5</th>\n",
       "      <th>6</th>\n",
       "      <th>7</th>\n",
       "      <th>8</th>\n",
       "      <th>9</th>\n",
       "      <th>...</th>\n",
       "      <th>90</th>\n",
       "      <th>91</th>\n",
       "      <th>92</th>\n",
       "      <th>93</th>\n",
       "      <th>94</th>\n",
       "      <th>95</th>\n",
       "      <th>96</th>\n",
       "      <th>97</th>\n",
       "      <th>98</th>\n",
       "      <th>99</th>\n",
       "    </tr>\n",
       "  </thead>\n",
       "  <tbody>\n",
       "    <tr>\n",
       "      <th>shall</th>\n",
       "      <td>-0.317106</td>\n",
       "      <td>0.100167</td>\n",
       "      <td>0.077728</td>\n",
       "      <td>0.006556</td>\n",
       "      <td>0.045679</td>\n",
       "      <td>0.221000</td>\n",
       "      <td>0.129322</td>\n",
       "      <td>0.143678</td>\n",
       "      <td>0.141635</td>\n",
       "      <td>0.158880</td>\n",
       "      <td>...</td>\n",
       "      <td>0.105210</td>\n",
       "      <td>-0.075066</td>\n",
       "      <td>-0.001098</td>\n",
       "      <td>-0.004514</td>\n",
       "      <td>-0.008589</td>\n",
       "      <td>0.032121</td>\n",
       "      <td>-0.249648</td>\n",
       "      <td>-0.051536</td>\n",
       "      <td>0.053057</td>\n",
       "      <td>-0.037429</td>\n",
       "    </tr>\n",
       "    <tr>\n",
       "      <th>unto</th>\n",
       "      <td>-0.294665</td>\n",
       "      <td>0.102701</td>\n",
       "      <td>-0.048377</td>\n",
       "      <td>0.015998</td>\n",
       "      <td>-0.022031</td>\n",
       "      <td>0.064745</td>\n",
       "      <td>0.115931</td>\n",
       "      <td>-0.006126</td>\n",
       "      <td>0.092725</td>\n",
       "      <td>0.024388</td>\n",
       "      <td>...</td>\n",
       "      <td>0.143805</td>\n",
       "      <td>-0.190150</td>\n",
       "      <td>-0.015633</td>\n",
       "      <td>-0.075461</td>\n",
       "      <td>0.010221</td>\n",
       "      <td>-0.146776</td>\n",
       "      <td>-0.400422</td>\n",
       "      <td>-0.176516</td>\n",
       "      <td>0.203708</td>\n",
       "      <td>0.013310</td>\n",
       "    </tr>\n",
       "    <tr>\n",
       "      <th>lord</th>\n",
       "      <td>-0.338744</td>\n",
       "      <td>0.019908</td>\n",
       "      <td>-0.013468</td>\n",
       "      <td>-0.003226</td>\n",
       "      <td>0.161189</td>\n",
       "      <td>0.033153</td>\n",
       "      <td>0.060062</td>\n",
       "      <td>0.021268</td>\n",
       "      <td>0.040878</td>\n",
       "      <td>0.045058</td>\n",
       "      <td>...</td>\n",
       "      <td>0.046872</td>\n",
       "      <td>0.011700</td>\n",
       "      <td>0.295030</td>\n",
       "      <td>0.015847</td>\n",
       "      <td>-0.015038</td>\n",
       "      <td>0.094625</td>\n",
       "      <td>-0.083091</td>\n",
       "      <td>0.003177</td>\n",
       "      <td>0.145012</td>\n",
       "      <td>0.038983</td>\n",
       "    </tr>\n",
       "    <tr>\n",
       "      <th>thou</th>\n",
       "      <td>-0.293927</td>\n",
       "      <td>0.014191</td>\n",
       "      <td>0.004545</td>\n",
       "      <td>-0.012378</td>\n",
       "      <td>0.021618</td>\n",
       "      <td>0.010106</td>\n",
       "      <td>0.201176</td>\n",
       "      <td>0.194856</td>\n",
       "      <td>0.075577</td>\n",
       "      <td>0.104104</td>\n",
       "      <td>...</td>\n",
       "      <td>0.007169</td>\n",
       "      <td>-0.045410</td>\n",
       "      <td>-0.027107</td>\n",
       "      <td>0.169168</td>\n",
       "      <td>-0.000470</td>\n",
       "      <td>-0.012563</td>\n",
       "      <td>-0.361332</td>\n",
       "      <td>0.031974</td>\n",
       "      <td>0.137848</td>\n",
       "      <td>-0.016218</td>\n",
       "    </tr>\n",
       "    <tr>\n",
       "      <th>thy</th>\n",
       "      <td>-0.373764</td>\n",
       "      <td>0.055770</td>\n",
       "      <td>0.034933</td>\n",
       "      <td>0.104794</td>\n",
       "      <td>0.067176</td>\n",
       "      <td>0.125791</td>\n",
       "      <td>0.097124</td>\n",
       "      <td>0.042438</td>\n",
       "      <td>0.020644</td>\n",
       "      <td>0.022973</td>\n",
       "      <td>...</td>\n",
       "      <td>0.051922</td>\n",
       "      <td>-0.100794</td>\n",
       "      <td>0.133908</td>\n",
       "      <td>0.193484</td>\n",
       "      <td>-0.092016</td>\n",
       "      <td>0.173030</td>\n",
       "      <td>-0.084301</td>\n",
       "      <td>0.077450</td>\n",
       "      <td>0.019840</td>\n",
       "      <td>-0.003680</td>\n",
       "    </tr>\n",
       "  </tbody>\n",
       "</table>\n",
       "<p>5 rows × 100 columns</p>\n",
       "</div>"
      ],
      "text/plain": [
       "             0         1         2         3         4         5         6   \\\n",
       "shall -0.317106  0.100167  0.077728  0.006556  0.045679  0.221000  0.129322   \n",
       "unto  -0.294665  0.102701 -0.048377  0.015998 -0.022031  0.064745  0.115931   \n",
       "lord  -0.338744  0.019908 -0.013468 -0.003226  0.161189  0.033153  0.060062   \n",
       "thou  -0.293927  0.014191  0.004545 -0.012378  0.021618  0.010106  0.201176   \n",
       "thy   -0.373764  0.055770  0.034933  0.104794  0.067176  0.125791  0.097124   \n",
       "\n",
       "             7         8         9     ...           90        91        92  \\\n",
       "shall  0.143678  0.141635  0.158880    ...     0.105210 -0.075066 -0.001098   \n",
       "unto  -0.006126  0.092725  0.024388    ...     0.143805 -0.190150 -0.015633   \n",
       "lord   0.021268  0.040878  0.045058    ...     0.046872  0.011700  0.295030   \n",
       "thou   0.194856  0.075577  0.104104    ...     0.007169 -0.045410 -0.027107   \n",
       "thy    0.042438  0.020644  0.022973    ...     0.051922 -0.100794  0.133908   \n",
       "\n",
       "             93        94        95        96        97        98        99  \n",
       "shall -0.004514 -0.008589  0.032121 -0.249648 -0.051536  0.053057 -0.037429  \n",
       "unto  -0.075461  0.010221 -0.146776 -0.400422 -0.176516  0.203708  0.013310  \n",
       "lord   0.015847 -0.015038  0.094625 -0.083091  0.003177  0.145012  0.038983  \n",
       "thou   0.169168 -0.000470 -0.012563 -0.361332  0.031974  0.137848 -0.016218  \n",
       "thy    0.193484 -0.092016  0.173030 -0.084301  0.077450  0.019840 -0.003680  \n",
       "\n",
       "[5 rows x 100 columns]"
      ]
     },
     "execution_count": 58,
     "metadata": {},
     "output_type": "execute_result"
    }
   ],
   "source": [
    "# model.layers[2].get_weights()\n",
    "merge_layer = model.layers[2]\n",
    "weights=merge_layer.get_weights()[0][1:]\n",
    "print(weights.shape)\n",
    "pd.DataFrame(weights, index=id2word.values()).head()"
   ]
  },
  {
   "cell_type": "code",
   "execution_count": 50,
   "metadata": {},
   "outputs": [
    {
     "name": "stdout",
     "output_type": "stream",
     "text": [
      "(12424, 12424)\n"
     ]
    },
    {
     "name": "stderr",
     "output_type": "stream",
     "text": [
      "/home/pranjut/anaconda3/lib/python3.6/site-packages/sklearn/metrics/pairwise.py:257: RuntimeWarning: invalid value encountered in sqrt\n",
      "  return distances if squared else np.sqrt(distances, out=distances)\n"
     ]
    },
    {
     "data": {
      "text/plain": [
       "{'god': ['lord', 'covenant', 'child', 'jacob', 'perfect'],\n",
       " 'jesus': ['christ', 'disciples', 'dead', 'peter', 'answered'],\n",
       " 'noah': ['shem', 'japheth', 'peleg', 'methuselah', 'leah'],\n",
       " 'egypt': ['therein', 'near', 'midst', 'inhabitants', 'gods'],\n",
       " 'john': ['asked', 'pharisees', 'hour', 'baptized', 'peter'],\n",
       " 'gospel': ['saints', 'promise', 'grace', 'faithful', 'believe'],\n",
       " 'moses': ['congregation', 'throughout', 'commanded', 'door', 'lay'],\n",
       " 'famine': ['remain', 'waste', 'streets', 'devoured', 'desolation']}"
      ]
     },
     "execution_count": 50,
     "metadata": {},
     "output_type": "execute_result"
    }
   ],
   "source": [
    "from sklearn.metrics.pairwise import euclidean_distances\n",
    "\n",
    "distance_matrix = euclidean_distances(weights)\n",
    "print(distance_matrix.shape)\n",
    "\n",
    "similar_words = {search_term: [id2word[idx] for idx in distance_matrix[word2id[search_term]-1].argsort()[1:6]+1] \n",
    "                   for search_term in ['god', 'jesus', 'noah', 'egypt', 'john', 'gospel', 'moses','famine']}\n",
    "\n",
    "similar_words"
   ]
  },
  {
   "cell_type": "code",
   "execution_count": 43,
   "metadata": {},
   "outputs": [
    {
     "name": "stdout",
     "output_type": "stream",
     "text": [
      "Total words: 48 \tWord Embedding shapes: (48, 100)\n"
     ]
    },
    {
     "data": {
      "image/png": "[encoded data removed]",
      "text/plain": [
       "<Figure size 1008x576 with 1 Axes>"
      ]
     },
     "metadata": {},
     "output_type": "display_data"
    }
   ],
   "source": [
    "from sklearn.manifold import TSNE\n",
    "\n",
    "words = sum([[k] + v for k, v in similar_words.items()], [])\n",
    "words_ids = [word2id[w] for w in words]\n",
    "word_vectors = np.array([weights[idx] for idx in words_ids])\n",
    "print('Total words:', len(words), '\\tWord Embedding shapes:', word_vectors.shape)\n",
    "\n",
    "tsne = TSNE(n_components=2, random_state=0, n_iter=10000, perplexity=3)\n",
    "np.set_printoptions(suppress=True)\n",
    "T = tsne.fit_transform(word_vectors)\n",
    "labels = words\n",
    "\n",
    "plt.figure(figsize=(14, 8))\n",
    "plt.scatter(T[:, 0], T[:, 1], c='steelblue', edgecolors='k')\n",
    "for label, x, y in zip(labels, T[:, 0], T[:, 1]):\n",
    "    plt.annotate(label, xy=(x+1, y+1), xytext=(0, 0), textcoords='offset points')"
   ]
  },
  {
   "cell_type": "code",
   "execution_count": null,
   "metadata": {},
   "outputs": [],
   "source": []
  }
 ],
 "metadata": {
  "kernelspec": {
   "display_name": "Python 3",
   "language": "python",
   "name": "python3"
  },
  "language_info": {
   "codemirror_mode": {
    "name": "ipython",
    "version": 3
   },
   "file_extension": ".py",
   "mimetype": "text/x-python",
   "name": "python",
   "nbconvert_exporter": "python",
   "pygments_lexer": "ipython3",
   "version": "3.6.5"
  }
 },
 "nbformat": 4,
 "nbformat_minor": 2
}
